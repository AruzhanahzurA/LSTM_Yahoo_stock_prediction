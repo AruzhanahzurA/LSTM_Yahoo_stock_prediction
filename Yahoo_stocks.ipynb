{
  "nbformat": 4,
  "nbformat_minor": 0,
  "metadata": {
    "colab": {
      "provenance": []
    },
    "kernelspec": {
      "name": "python3",
      "display_name": "Python 3"
    },
    "language_info": {
      "name": "python"
    }
  },
  "cells": [
    {
      "cell_type": "code",
      "execution_count": null,
      "metadata": {
        "id": "V-LrzAWoXdWs"
      },
      "outputs": [],
      "source": [
        "import pandas as pd"
      ]
    },
    {
      "cell_type": "code",
      "source": [
        "from google.colab import drive\n",
        "drive.mount('/content/drive')"
      ],
      "metadata": {
        "colab": {
          "base_uri": "https://localhost:8080/"
        },
        "id": "mxceGMvDXnbV",
        "outputId": "8a563c5e-5278-40de-fa9e-8d0ab774dcb1"
      },
      "execution_count": null,
      "outputs": [
        {
          "output_type": "stream",
          "name": "stdout",
          "text": [
            "Mounted at /content/drive\n"
          ]
        }
      ]
    },
    {
      "cell_type": "code",
      "source": [
        "yahoo_stats= pd.read_csv('/content/drive/MyDrive/datasets/yahoo_stock.csv')\n",
        "yahoo=pd.DataFrame(yahoo_stats)"
      ],
      "metadata": {
        "id": "pahyn9_KYWdf"
      },
      "execution_count": null,
      "outputs": []
    },
    {
      "cell_type": "code",
      "source": [
        "yahoo"
      ],
      "metadata": {
        "colab": {
          "base_uri": "https://localhost:8080/",
          "height": 617
        },
        "id": "omo938gnYpWN",
        "outputId": "78370b72-0840-443d-8cd1-01dce4d5fd95"
      },
      "execution_count": null,
      "outputs": [
        {
          "output_type": "execute_result",
          "data": {
            "text/plain": [
              "            Date         High          Low         Open        Close  \\\n",
              "0     2015-11-23  2095.610107  2081.389893  2089.409912  2086.590088   \n",
              "1     2015-11-24  2094.120117  2070.290039  2084.419922  2089.139893   \n",
              "2     2015-11-25  2093.000000  2086.300049  2089.300049  2088.870117   \n",
              "3     2015-11-26  2093.000000  2086.300049  2089.300049  2088.870117   \n",
              "4     2015-11-27  2093.290039  2084.129883  2088.820068  2090.110107   \n",
              "...          ...          ...          ...          ...          ...   \n",
              "1820  2020-11-16  3628.510010  3600.159912  3600.159912  3626.909912   \n",
              "1821  2020-11-17  3623.110107  3588.679932  3610.310059  3609.530029   \n",
              "1822  2020-11-18  3619.090088  3567.330078  3612.090088  3567.790039   \n",
              "1823  2020-11-19  3585.219971  3543.840088  3559.409912  3581.870117   \n",
              "1824  2020-11-20  3581.229980  3556.850098  3579.310059  3557.540039   \n",
              "\n",
              "            Volume    Adj Close  \n",
              "0     3.587980e+09  2086.590088  \n",
              "1     3.884930e+09  2089.139893  \n",
              "2     2.852940e+09  2088.870117  \n",
              "3     2.852940e+09  2088.870117  \n",
              "4     1.466840e+09  2090.110107  \n",
              "...            ...          ...  \n",
              "1820  5.281980e+09  3626.909912  \n",
              "1821  4.799570e+09  3609.530029  \n",
              "1822  5.274450e+09  3567.790039  \n",
              "1823  4.347200e+09  3581.870117  \n",
              "1824  2.236662e+09  3557.540039  \n",
              "\n",
              "[1825 rows x 7 columns]"
            ],
            "text/html": [
              "\n",
              "  <div id=\"df-843e3d3a-0bad-4c4c-aee6-9eb571720144\" class=\"colab-df-container\">\n",
              "    <div>\n",
              "<style scoped>\n",
              "    .dataframe tbody tr th:only-of-type {\n",
              "        vertical-align: middle;\n",
              "    }\n",
              "\n",
              "    .dataframe tbody tr th {\n",
              "        vertical-align: top;\n",
              "    }\n",
              "\n",
              "    .dataframe thead th {\n",
              "        text-align: right;\n",
              "    }\n",
              "</style>\n",
              "<table border=\"1\" class=\"dataframe\">\n",
              "  <thead>\n",
              "    <tr style=\"text-align: right;\">\n",
              "      <th></th>\n",
              "      <th>Date</th>\n",
              "      <th>High</th>\n",
              "      <th>Low</th>\n",
              "      <th>Open</th>\n",
              "      <th>Close</th>\n",
              "      <th>Volume</th>\n",
              "      <th>Adj Close</th>\n",
              "    </tr>\n",
              "  </thead>\n",
              "  <tbody>\n",
              "    <tr>\n",
              "      <th>0</th>\n",
              "      <td>2015-11-23</td>\n",
              "      <td>2095.610107</td>\n",
              "      <td>2081.389893</td>\n",
              "      <td>2089.409912</td>\n",
              "      <td>2086.590088</td>\n",
              "      <td>3.587980e+09</td>\n",
              "      <td>2086.590088</td>\n",
              "    </tr>\n",
              "    <tr>\n",
              "      <th>1</th>\n",
              "      <td>2015-11-24</td>\n",
              "      <td>2094.120117</td>\n",
              "      <td>2070.290039</td>\n",
              "      <td>2084.419922</td>\n",
              "      <td>2089.139893</td>\n",
              "      <td>3.884930e+09</td>\n",
              "      <td>2089.139893</td>\n",
              "    </tr>\n",
              "    <tr>\n",
              "      <th>2</th>\n",
              "      <td>2015-11-25</td>\n",
              "      <td>2093.000000</td>\n",
              "      <td>2086.300049</td>\n",
              "      <td>2089.300049</td>\n",
              "      <td>2088.870117</td>\n",
              "      <td>2.852940e+09</td>\n",
              "      <td>2088.870117</td>\n",
              "    </tr>\n",
              "    <tr>\n",
              "      <th>3</th>\n",
              "      <td>2015-11-26</td>\n",
              "      <td>2093.000000</td>\n",
              "      <td>2086.300049</td>\n",
              "      <td>2089.300049</td>\n",
              "      <td>2088.870117</td>\n",
              "      <td>2.852940e+09</td>\n",
              "      <td>2088.870117</td>\n",
              "    </tr>\n",
              "    <tr>\n",
              "      <th>4</th>\n",
              "      <td>2015-11-27</td>\n",
              "      <td>2093.290039</td>\n",
              "      <td>2084.129883</td>\n",
              "      <td>2088.820068</td>\n",
              "      <td>2090.110107</td>\n",
              "      <td>1.466840e+09</td>\n",
              "      <td>2090.110107</td>\n",
              "    </tr>\n",
              "    <tr>\n",
              "      <th>...</th>\n",
              "      <td>...</td>\n",
              "      <td>...</td>\n",
              "      <td>...</td>\n",
              "      <td>...</td>\n",
              "      <td>...</td>\n",
              "      <td>...</td>\n",
              "      <td>...</td>\n",
              "    </tr>\n",
              "    <tr>\n",
              "      <th>1820</th>\n",
              "      <td>2020-11-16</td>\n",
              "      <td>3628.510010</td>\n",
              "      <td>3600.159912</td>\n",
              "      <td>3600.159912</td>\n",
              "      <td>3626.909912</td>\n",
              "      <td>5.281980e+09</td>\n",
              "      <td>3626.909912</td>\n",
              "    </tr>\n",
              "    <tr>\n",
              "      <th>1821</th>\n",
              "      <td>2020-11-17</td>\n",
              "      <td>3623.110107</td>\n",
              "      <td>3588.679932</td>\n",
              "      <td>3610.310059</td>\n",
              "      <td>3609.530029</td>\n",
              "      <td>4.799570e+09</td>\n",
              "      <td>3609.530029</td>\n",
              "    </tr>\n",
              "    <tr>\n",
              "      <th>1822</th>\n",
              "      <td>2020-11-18</td>\n",
              "      <td>3619.090088</td>\n",
              "      <td>3567.330078</td>\n",
              "      <td>3612.090088</td>\n",
              "      <td>3567.790039</td>\n",
              "      <td>5.274450e+09</td>\n",
              "      <td>3567.790039</td>\n",
              "    </tr>\n",
              "    <tr>\n",
              "      <th>1823</th>\n",
              "      <td>2020-11-19</td>\n",
              "      <td>3585.219971</td>\n",
              "      <td>3543.840088</td>\n",
              "      <td>3559.409912</td>\n",
              "      <td>3581.870117</td>\n",
              "      <td>4.347200e+09</td>\n",
              "      <td>3581.870117</td>\n",
              "    </tr>\n",
              "    <tr>\n",
              "      <th>1824</th>\n",
              "      <td>2020-11-20</td>\n",
              "      <td>3581.229980</td>\n",
              "      <td>3556.850098</td>\n",
              "      <td>3579.310059</td>\n",
              "      <td>3557.540039</td>\n",
              "      <td>2.236662e+09</td>\n",
              "      <td>3557.540039</td>\n",
              "    </tr>\n",
              "  </tbody>\n",
              "</table>\n",
              "<p>1825 rows × 7 columns</p>\n",
              "</div>\n",
              "    <div class=\"colab-df-buttons\">\n",
              "\n",
              "  <div class=\"colab-df-container\">\n",
              "    <button class=\"colab-df-convert\" onclick=\"convertToInteractive('df-843e3d3a-0bad-4c4c-aee6-9eb571720144')\"\n",
              "            title=\"Convert this dataframe to an interactive table.\"\n",
              "            style=\"display:none;\">\n",
              "\n",
              "  <svg xmlns=\"http://www.w3.org/2000/svg\" height=\"24px\" viewBox=\"0 -960 960 960\">\n",
              "    <path d=\"M120-120v-720h720v720H120Zm60-500h600v-160H180v160Zm220 220h160v-160H400v160Zm0 220h160v-160H400v160ZM180-400h160v-160H180v160Zm440 0h160v-160H620v160ZM180-180h160v-160H180v160Zm440 0h160v-160H620v160Z\"/>\n",
              "  </svg>\n",
              "    </button>\n",
              "\n",
              "  <style>\n",
              "    .colab-df-container {\n",
              "      display:flex;\n",
              "      gap: 12px;\n",
              "    }\n",
              "\n",
              "    .colab-df-convert {\n",
              "      background-color: #E8F0FE;\n",
              "      border: none;\n",
              "      border-radius: 50%;\n",
              "      cursor: pointer;\n",
              "      display: none;\n",
              "      fill: #1967D2;\n",
              "      height: 32px;\n",
              "      padding: 0 0 0 0;\n",
              "      width: 32px;\n",
              "    }\n",
              "\n",
              "    .colab-df-convert:hover {\n",
              "      background-color: #E2EBFA;\n",
              "      box-shadow: 0px 1px 2px rgba(60, 64, 67, 0.3), 0px 1px 3px 1px rgba(60, 64, 67, 0.15);\n",
              "      fill: #174EA6;\n",
              "    }\n",
              "\n",
              "    .colab-df-buttons div {\n",
              "      margin-bottom: 4px;\n",
              "    }\n",
              "\n",
              "    [theme=dark] .colab-df-convert {\n",
              "      background-color: #3B4455;\n",
              "      fill: #D2E3FC;\n",
              "    }\n",
              "\n",
              "    [theme=dark] .colab-df-convert:hover {\n",
              "      background-color: #434B5C;\n",
              "      box-shadow: 0px 1px 3px 1px rgba(0, 0, 0, 0.15);\n",
              "      filter: drop-shadow(0px 1px 2px rgba(0, 0, 0, 0.3));\n",
              "      fill: #FFFFFF;\n",
              "    }\n",
              "  </style>\n",
              "\n",
              "    <script>\n",
              "      const buttonEl =\n",
              "        document.querySelector('#df-843e3d3a-0bad-4c4c-aee6-9eb571720144 button.colab-df-convert');\n",
              "      buttonEl.style.display =\n",
              "        google.colab.kernel.accessAllowed ? 'block' : 'none';\n",
              "\n",
              "      async function convertToInteractive(key) {\n",
              "        const element = document.querySelector('#df-843e3d3a-0bad-4c4c-aee6-9eb571720144');\n",
              "        const dataTable =\n",
              "          await google.colab.kernel.invokeFunction('convertToInteractive',\n",
              "                                                    [key], {});\n",
              "        if (!dataTable) return;\n",
              "\n",
              "        const docLinkHtml = 'Like what you see? Visit the ' +\n",
              "          '<a target=\"_blank\" href=https://colab.research.google.com/notebooks/data_table.ipynb>data table notebook</a>'\n",
              "          + ' to learn more about interactive tables.';\n",
              "        element.innerHTML = '';\n",
              "        dataTable['output_type'] = 'display_data';\n",
              "        await google.colab.output.renderOutput(dataTable, element);\n",
              "        const docLink = document.createElement('div');\n",
              "        docLink.innerHTML = docLinkHtml;\n",
              "        element.appendChild(docLink);\n",
              "      }\n",
              "    </script>\n",
              "  </div>\n",
              "\n",
              "\n",
              "<div id=\"df-757f5155-8b56-4f96-967d-75abdcc533e9\">\n",
              "  <button class=\"colab-df-quickchart\" onclick=\"quickchart('df-757f5155-8b56-4f96-967d-75abdcc533e9')\"\n",
              "            title=\"Suggest charts\"\n",
              "            style=\"display:none;\">\n",
              "\n",
              "<svg xmlns=\"http://www.w3.org/2000/svg\" height=\"24px\"viewBox=\"0 0 24 24\"\n",
              "     width=\"24px\">\n",
              "    <g>\n",
              "        <path d=\"M19 3H5c-1.1 0-2 .9-2 2v14c0 1.1.9 2 2 2h14c1.1 0 2-.9 2-2V5c0-1.1-.9-2-2-2zM9 17H7v-7h2v7zm4 0h-2V7h2v10zm4 0h-2v-4h2v4z\"/>\n",
              "    </g>\n",
              "</svg>\n",
              "  </button>\n",
              "\n",
              "<style>\n",
              "  .colab-df-quickchart {\n",
              "      --bg-color: #E8F0FE;\n",
              "      --fill-color: #1967D2;\n",
              "      --hover-bg-color: #E2EBFA;\n",
              "      --hover-fill-color: #174EA6;\n",
              "      --disabled-fill-color: #AAA;\n",
              "      --disabled-bg-color: #DDD;\n",
              "  }\n",
              "\n",
              "  [theme=dark] .colab-df-quickchart {\n",
              "      --bg-color: #3B4455;\n",
              "      --fill-color: #D2E3FC;\n",
              "      --hover-bg-color: #434B5C;\n",
              "      --hover-fill-color: #FFFFFF;\n",
              "      --disabled-bg-color: #3B4455;\n",
              "      --disabled-fill-color: #666;\n",
              "  }\n",
              "\n",
              "  .colab-df-quickchart {\n",
              "    background-color: var(--bg-color);\n",
              "    border: none;\n",
              "    border-radius: 50%;\n",
              "    cursor: pointer;\n",
              "    display: none;\n",
              "    fill: var(--fill-color);\n",
              "    height: 32px;\n",
              "    padding: 0;\n",
              "    width: 32px;\n",
              "  }\n",
              "\n",
              "  .colab-df-quickchart:hover {\n",
              "    background-color: var(--hover-bg-color);\n",
              "    box-shadow: 0 1px 2px rgba(60, 64, 67, 0.3), 0 1px 3px 1px rgba(60, 64, 67, 0.15);\n",
              "    fill: var(--button-hover-fill-color);\n",
              "  }\n",
              "\n",
              "  .colab-df-quickchart-complete:disabled,\n",
              "  .colab-df-quickchart-complete:disabled:hover {\n",
              "    background-color: var(--disabled-bg-color);\n",
              "    fill: var(--disabled-fill-color);\n",
              "    box-shadow: none;\n",
              "  }\n",
              "\n",
              "  .colab-df-spinner {\n",
              "    border: 2px solid var(--fill-color);\n",
              "    border-color: transparent;\n",
              "    border-bottom-color: var(--fill-color);\n",
              "    animation:\n",
              "      spin 1s steps(1) infinite;\n",
              "  }\n",
              "\n",
              "  @keyframes spin {\n",
              "    0% {\n",
              "      border-color: transparent;\n",
              "      border-bottom-color: var(--fill-color);\n",
              "      border-left-color: var(--fill-color);\n",
              "    }\n",
              "    20% {\n",
              "      border-color: transparent;\n",
              "      border-left-color: var(--fill-color);\n",
              "      border-top-color: var(--fill-color);\n",
              "    }\n",
              "    30% {\n",
              "      border-color: transparent;\n",
              "      border-left-color: var(--fill-color);\n",
              "      border-top-color: var(--fill-color);\n",
              "      border-right-color: var(--fill-color);\n",
              "    }\n",
              "    40% {\n",
              "      border-color: transparent;\n",
              "      border-right-color: var(--fill-color);\n",
              "      border-top-color: var(--fill-color);\n",
              "    }\n",
              "    60% {\n",
              "      border-color: transparent;\n",
              "      border-right-color: var(--fill-color);\n",
              "    }\n",
              "    80% {\n",
              "      border-color: transparent;\n",
              "      border-right-color: var(--fill-color);\n",
              "      border-bottom-color: var(--fill-color);\n",
              "    }\n",
              "    90% {\n",
              "      border-color: transparent;\n",
              "      border-bottom-color: var(--fill-color);\n",
              "    }\n",
              "  }\n",
              "</style>\n",
              "\n",
              "  <script>\n",
              "    async function quickchart(key) {\n",
              "      const quickchartButtonEl =\n",
              "        document.querySelector('#' + key + ' button');\n",
              "      quickchartButtonEl.disabled = true;  // To prevent multiple clicks.\n",
              "      quickchartButtonEl.classList.add('colab-df-spinner');\n",
              "      try {\n",
              "        const charts = await google.colab.kernel.invokeFunction(\n",
              "            'suggestCharts', [key], {});\n",
              "      } catch (error) {\n",
              "        console.error('Error during call to suggestCharts:', error);\n",
              "      }\n",
              "      quickchartButtonEl.classList.remove('colab-df-spinner');\n",
              "      quickchartButtonEl.classList.add('colab-df-quickchart-complete');\n",
              "    }\n",
              "    (() => {\n",
              "      let quickchartButtonEl =\n",
              "        document.querySelector('#df-757f5155-8b56-4f96-967d-75abdcc533e9 button');\n",
              "      quickchartButtonEl.style.display =\n",
              "        google.colab.kernel.accessAllowed ? 'block' : 'none';\n",
              "    })();\n",
              "  </script>\n",
              "</div>\n",
              "\n",
              "  <div id=\"id_d671d9ec-ed2c-4c37-ab29-b0c348175b79\">\n",
              "    <style>\n",
              "      .colab-df-generate {\n",
              "        background-color: #E8F0FE;\n",
              "        border: none;\n",
              "        border-radius: 50%;\n",
              "        cursor: pointer;\n",
              "        display: none;\n",
              "        fill: #1967D2;\n",
              "        height: 32px;\n",
              "        padding: 0 0 0 0;\n",
              "        width: 32px;\n",
              "      }\n",
              "\n",
              "      .colab-df-generate:hover {\n",
              "        background-color: #E2EBFA;\n",
              "        box-shadow: 0px 1px 2px rgba(60, 64, 67, 0.3), 0px 1px 3px 1px rgba(60, 64, 67, 0.15);\n",
              "        fill: #174EA6;\n",
              "      }\n",
              "\n",
              "      [theme=dark] .colab-df-generate {\n",
              "        background-color: #3B4455;\n",
              "        fill: #D2E3FC;\n",
              "      }\n",
              "\n",
              "      [theme=dark] .colab-df-generate:hover {\n",
              "        background-color: #434B5C;\n",
              "        box-shadow: 0px 1px 3px 1px rgba(0, 0, 0, 0.15);\n",
              "        filter: drop-shadow(0px 1px 2px rgba(0, 0, 0, 0.3));\n",
              "        fill: #FFFFFF;\n",
              "      }\n",
              "    </style>\n",
              "    <button class=\"colab-df-generate\" onclick=\"generateWithVariable('yahoo')\"\n",
              "            title=\"Generate code using this dataframe.\"\n",
              "            style=\"display:none;\">\n",
              "\n",
              "  <svg xmlns=\"http://www.w3.org/2000/svg\" height=\"24px\"viewBox=\"0 0 24 24\"\n",
              "       width=\"24px\">\n",
              "    <path d=\"M7,19H8.4L18.45,9,17,7.55,7,17.6ZM5,21V16.75L18.45,3.32a2,2,0,0,1,2.83,0l1.4,1.43a1.91,1.91,0,0,1,.58,1.4,1.91,1.91,0,0,1-.58,1.4L9.25,21ZM18.45,9,17,7.55Zm-12,3A5.31,5.31,0,0,0,4.9,8.1,5.31,5.31,0,0,0,1,6.5,5.31,5.31,0,0,0,4.9,4.9,5.31,5.31,0,0,0,6.5,1,5.31,5.31,0,0,0,8.1,4.9,5.31,5.31,0,0,0,12,6.5,5.46,5.46,0,0,0,6.5,12Z\"/>\n",
              "  </svg>\n",
              "    </button>\n",
              "    <script>\n",
              "      (() => {\n",
              "      const buttonEl =\n",
              "        document.querySelector('#id_d671d9ec-ed2c-4c37-ab29-b0c348175b79 button.colab-df-generate');\n",
              "      buttonEl.style.display =\n",
              "        google.colab.kernel.accessAllowed ? 'block' : 'none';\n",
              "\n",
              "      buttonEl.onclick = () => {\n",
              "        google.colab.notebook.generateWithVariable('yahoo');\n",
              "      }\n",
              "      })();\n",
              "    </script>\n",
              "  </div>\n",
              "\n",
              "    </div>\n",
              "  </div>\n"
            ],
            "application/vnd.google.colaboratory.intrinsic+json": {
              "type": "dataframe",
              "variable_name": "yahoo",
              "summary": "{\n  \"name\": \"yahoo\",\n  \"rows\": 1825,\n  \"fields\": [\n    {\n      \"column\": \"Date\",\n      \"properties\": {\n        \"dtype\": \"object\",\n        \"num_unique_values\": 1825,\n        \"samples\": [\n          \"2017-05-31\",\n          \"2020-09-01\",\n          \"2016-09-15\"\n        ],\n        \"semantic_type\": \"\",\n        \"description\": \"\"\n      }\n    },\n    {\n      \"column\": \"High\",\n      \"properties\": {\n        \"dtype\": \"number\",\n        \"std\": 409.68085292592116,\n        \"min\": 1847.0,\n        \"max\": 3645.989990234375,\n        \"num_unique_values\": 1252,\n        \"samples\": [\n          2874.02001953125,\n          3486.25,\n          3136.719970703125\n        ],\n        \"semantic_type\": \"\",\n        \"description\": \"\"\n      }\n    },\n    {\n      \"column\": \"Low\",\n      \"properties\": {\n        \"dtype\": \"number\",\n        \"std\": 404.3100683842496,\n        \"min\": 1810.0999755859373,\n        \"max\": 3600.159912109375,\n        \"num_unique_values\": 1251,\n        \"samples\": [\n          2710.510009765625,\n          3557.0,\n          3034.3798828125\n        ],\n        \"semantic_type\": \"\",\n        \"description\": \"\"\n      }\n    },\n    {\n      \"column\": \"Open\",\n      \"properties\": {\n        \"dtype\": \"number\",\n        \"std\": 407.16999419082686,\n        \"min\": 1833.4000244140625,\n        \"max\": 3612.090087890625,\n        \"num_unique_values\": 1247,\n        \"samples\": [\n          2838.89990234375,\n          3071.0400390625,\n          2984.25\n        ],\n        \"semantic_type\": \"\",\n        \"description\": \"\"\n      }\n    },\n    {\n      \"column\": \"Close\",\n      \"properties\": {\n        \"dtype\": \"number\",\n        \"std\": 407.30117676380684,\n        \"min\": 1829.0799560546875,\n        \"max\": 3626.909912109375,\n        \"num_unique_values\": 1252,\n        \"samples\": [\n          2785.679931640625,\n          3443.43994140625,\n          3003.3701171875\n        ],\n        \"semantic_type\": \"\",\n        \"description\": \"\"\n      }\n    },\n    {\n      \"column\": \"Volume\",\n      \"properties\": {\n        \"dtype\": \"number\",\n        \"std\": 1087592837.8896685,\n        \"min\": 1296540000.0,\n        \"max\": 9044690000.0,\n        \"num_unique_values\": 1258,\n        \"samples\": [\n          3684910000.0,\n          4184880000.0,\n          5636460000.0\n        ],\n        \"semantic_type\": \"\",\n        \"description\": \"\"\n      }\n    },\n    {\n      \"column\": \"Adj Close\",\n      \"properties\": {\n        \"dtype\": \"number\",\n        \"std\": 407.30117676380684,\n        \"min\": 1829.0799560546875,\n        \"max\": 3626.909912109375,\n        \"num_unique_values\": 1252,\n        \"samples\": [\n          2785.679931640625,\n          3443.43994140625,\n          3003.3701171875\n        ],\n        \"semantic_type\": \"\",\n        \"description\": \"\"\n      }\n    }\n  ]\n}"
            }
          },
          "metadata": {},
          "execution_count": 4
        }
      ]
    },
    {
      "cell_type": "code",
      "source": [
        "yahoo_new=yahoo[['Date', 'High']]"
      ],
      "metadata": {
        "id": "qOtdFl-TYrA0"
      },
      "execution_count": null,
      "outputs": []
    },
    {
      "cell_type": "code",
      "source": [
        "yahoo_new['High'].fillna(yahoo_new['High'].median(), inplace=True)"
      ],
      "metadata": {
        "id": "IFK8Kj_glqP8",
        "colab": {
          "base_uri": "https://localhost:8080/"
        },
        "outputId": "d67ec061-563c-49a1-b86f-a96c524fa33c"
      },
      "execution_count": null,
      "outputs": [
        {
          "output_type": "stream",
          "name": "stderr",
          "text": [
            "<ipython-input-6-3bea5146fc0c>:1: SettingWithCopyWarning: \n",
            "A value is trying to be set on a copy of a slice from a DataFrame\n",
            "\n",
            "See the caveats in the documentation: https://pandas.pydata.org/pandas-docs/stable/user_guide/indexing.html#returning-a-view-versus-a-copy\n",
            "  yahoo_new['High'].fillna(yahoo_new['High'].median(), inplace=True)\n"
          ]
        }
      ]
    },
    {
      "cell_type": "code",
      "source": [
        "import matplotlib.pyplot as plt\n",
        "\n",
        "plt.figure(figsize=(14, 7))\n",
        "plt.plot(yahoo_new['Date'], yahoo_new['High'], label='Predicted High Values', marker='o', linestyle='-', color='blue')\n",
        "plt.title(' ')\n",
        "plt.xlabel('Date')\n",
        "plt.ylabel('Predicted High Prices')\n",
        "plt.xticks(rotation=45)\n",
        "plt.legend()\n",
        "plt.grid(True)\n",
        "plt.tight_layout()\n",
        "plt.show()\n"
      ],
      "metadata": {
        "colab": {
          "base_uri": "https://localhost:8080/",
          "height": 370
        },
        "id": "ePkPfoNxGLbz",
        "outputId": "9be4bac9-5a7d-41ed-e9e6-d52ef9919843"
      },
      "execution_count": null,
      "outputs": [
        {
          "output_type": "display_data",
          "data": {
            "text/plain": [
              "<Figure size 1400x700 with 1 Axes>"
            ],
            "image/png": "[encoded data removed]"
          },
          "metadata": {}
        }
      ]
    },
    {
      "cell_type": "code",
      "source": [
        "from sklearn.preprocessing import MinMaxScaler\n",
        "\n",
        "scaler = MinMaxScaler(feature_range=(0, 1))\n",
        "yahoo_new['High'] = scaler.fit_transform(yahoo_new['High'].values.reshape(-1, 1))\n"
      ],
      "metadata": {
        "id": "IUu2ctRDoLMp",
        "colab": {
          "base_uri": "https://localhost:8080/"
        },
        "outputId": "a9c28f5a-4fd3-4a7c-9609-384858b4ffa3"
      },
      "execution_count": null,
      "outputs": [
        {
          "output_type": "stream",
          "name": "stderr",
          "text": [
            "<ipython-input-8-e25dd3797dca>:4: SettingWithCopyWarning: \n",
            "A value is trying to be set on a copy of a slice from a DataFrame.\n",
            "Try using .loc[row_indexer,col_indexer] = value instead\n",
            "\n",
            "See the caveats in the documentation: https://pandas.pydata.org/pandas-docs/stable/user_guide/indexing.html#returning-a-view-versus-a-copy\n",
            "  yahoo_new['High'] = scaler.fit_transform(yahoo_new['High'].values.reshape(-1, 1))\n"
          ]
        }
      ]
    },
    {
      "cell_type": "code",
      "source": [
        "import numpy as np\n",
        "\n",
        "def create_sequences(values, sequence_length):\n",
        "    sequences = []\n",
        "    for i in range(len(values) - sequence_length):\n",
        "        sequence = values[i:(i + sequence_length)]\n",
        "        sequences.append(sequence)\n",
        "    return np.array(sequences)\n",
        "\n",
        "sequence_length = 30\n",
        "sequences = create_sequences(yahoo_new['High'].values, sequence_length)\n"
      ],
      "metadata": {
        "id": "5HTCWAZ0U5r4"
      },
      "execution_count": null,
      "outputs": []
    },
    {
      "cell_type": "code",
      "source": [
        "X = sequences[:, :-1]\n",
        "y = sequences[:, -1]"
      ],
      "metadata": {
        "id": "W29pqbbLVEC5"
      },
      "execution_count": null,
      "outputs": []
    },
    {
      "cell_type": "code",
      "source": [
        "train_size = int(len(X) * 0.8)\n",
        "X_train, X_test = X[:train_size], X[train_size:]\n",
        "y_train, y_test = y[:train_size], y[train_size:]\n"
      ],
      "metadata": {
        "id": "01O0POCEoeNR"
      },
      "execution_count": null,
      "outputs": []
    },
    {
      "cell_type": "code",
      "source": [
        "import torch\n",
        "import torch.nn as nn\n",
        "\n",
        "class LSTMModelWithBatchNormAndDropout(nn.Module):\n",
        "    def __init__(self, input_size=1, hidden_layer_size=100, output_size=1, dropout_rate=0.2):\n",
        "        super(LSTMModelWithBatchNormAndDropout, self).__init__()\n",
        "        self.hidden_layer_size = hidden_layer_size\n",
        "\n",
        "        # LSTM layer\n",
        "        self.lstm = nn.LSTM(input_size, hidden_layer_size, batch_first=True)\n",
        "\n",
        "        # Dropout layer applied to the output of the LSTM layer\n",
        "        self.dropout = nn.Dropout(dropout_rate)\n",
        "\n",
        "        # Batch Normalization applied to the output of the LSTM layer\n",
        "        # Note: The number of features for BatchNorm1d is set to hidden_layer_size because\n",
        "        # we're applying it on the output of the LSTM layer for each time step.\n",
        "        self.batch_norm = nn.BatchNorm1d(hidden_layer_size)\n",
        "\n",
        "        # Linear layer that maps from hidden state space to output space\n",
        "        self.linear = nn.Linear(hidden_layer_size, output_size)\n",
        "\n",
        "    def forward(self, input_seq):\n",
        "        lstm_out, _ = self.lstm(input_seq)\n",
        "\n",
        "        # Apply dropout to the output of the LSTM layer\n",
        "        lstm_out = self.dropout(lstm_out)\n",
        "\n",
        "        # Since BatchNorm1d expects a 2D input (batch_size, num_features), we need to reshape\n",
        "        lstm_out = lstm_out.contiguous().view(-1, self.hidden_layer_size)  # Reshape to (batch_size*seq_len, hidden_layer_size)\n",
        "        lstm_out = self.batch_norm(lstm_out)  # Apply BatchNorm\n",
        "        lstm_out = lstm_out.view(-1, input_seq.size(1), self.hidden_layer_size)  # Reshape back to (batch_size, seq_len, hidden_layer_size)\n",
        "\n",
        "        # Selecting the output at the final time step\n",
        "        final_output = lstm_out[:, -1, :]\n",
        "\n",
        "        predictions = self.linear(final_output)\n",
        "        return predictions\n",
        "\n",
        "model = LSTMModelWithBatchNormAndDropout()\n",
        "loss_function = nn.MSELoss()\n",
        "optimizer = torch.optim.Adam(model.parameters(), lr=0.001)"
      ],
      "metadata": {
        "id": "RDQtll8x91f7"
      },
      "execution_count": null,
      "outputs": []
    },
    {
      "cell_type": "code",
      "source": [
        "# Convert X_train and y_train to PyTorch tensors\n",
        "X_train_tensor = torch.Tensor(X_train)\n",
        "X_train_tensor = X_train_tensor.unsqueeze(-1)\n",
        "y_train_tensor = torch.Tensor(y_train)\n",
        "\n",
        "epochs = 50\n",
        "\n",
        "for epoch in range(epochs):\n",
        "    model.train()\n",
        "    optimizer.zero_grad()  # Clears existing gradients from previous epoch\n",
        "    output = model(X_train_tensor)\n",
        "    loss = loss_function(output.view(-1), y_train_tensor)\n",
        "    loss.backward()  # Does backpropagation and calculates gradients\n",
        "    optimizer.step()  # Updates the weights accordingly\n",
        "\n",
        "    print(f'Epoch {epoch+1} Loss: {loss.item()}')\n"
      ],
      "metadata": {
        "id": "EHyrGErlaUqX",
        "colab": {
          "base_uri": "https://localhost:8080/"
        },
        "outputId": "1a948d0c-ed7e-4808-925c-5e02db5a22f0"
      },
      "execution_count": null,
      "outputs": [
        {
          "output_type": "stream",
          "name": "stdout",
          "text": [
            "Epoch 1 Loss: 0.5275946259498596\n",
            "Epoch 2 Loss: 0.40578991174697876\n",
            "Epoch 3 Loss: 0.36943092942237854\n",
            "Epoch 4 Loss: 0.2899555563926697\n",
            "Epoch 5 Loss: 0.2566392421722412\n",
            "Epoch 6 Loss: 0.2313975989818573\n",
            "Epoch 7 Loss: 0.1863887459039688\n",
            "Epoch 8 Loss: 0.18831636011600494\n",
            "Epoch 9 Loss: 0.17412392795085907\n",
            "Epoch 10 Loss: 0.16151924431324005\n",
            "Epoch 11 Loss: 0.16214610636234283\n",
            "Epoch 12 Loss: 0.16546761989593506\n",
            "Epoch 13 Loss: 0.16377070546150208\n",
            "Epoch 14 Loss: 0.15424025058746338\n",
            "Epoch 15 Loss: 0.1550242155790329\n",
            "Epoch 16 Loss: 0.13223090767860413\n",
            "Epoch 17 Loss: 0.12516050040721893\n",
            "Epoch 18 Loss: 0.11792861670255661\n",
            "Epoch 19 Loss: 0.11045919358730316\n",
            "Epoch 20 Loss: 0.10758400708436966\n",
            "Epoch 21 Loss: 0.09414572268724442\n",
            "Epoch 22 Loss: 0.09832001477479935\n",
            "Epoch 23 Loss: 0.08693941682577133\n",
            "Epoch 24 Loss: 0.09158799052238464\n",
            "Epoch 25 Loss: 0.08469915390014648\n",
            "Epoch 26 Loss: 0.07667975127696991\n",
            "Epoch 27 Loss: 0.07811997830867767\n",
            "Epoch 28 Loss: 0.07707087695598602\n",
            "Epoch 29 Loss: 0.06593593955039978\n",
            "Epoch 30 Loss: 0.059556636959314346\n",
            "Epoch 31 Loss: 0.06268791109323502\n",
            "Epoch 32 Loss: 0.05279888957738876\n",
            "Epoch 33 Loss: 0.051843442022800446\n",
            "Epoch 34 Loss: 0.05061115697026253\n",
            "Epoch 35 Loss: 0.04819870367646217\n",
            "Epoch 36 Loss: 0.05048885568976402\n",
            "Epoch 37 Loss: 0.043444737792015076\n",
            "Epoch 38 Loss: 0.04817399010062218\n",
            "Epoch 39 Loss: 0.043225616216659546\n",
            "Epoch 40 Loss: 0.04088248312473297\n",
            "Epoch 41 Loss: 0.03695831820368767\n",
            "Epoch 42 Loss: 0.03630678728222847\n",
            "Epoch 43 Loss: 0.03583627566695213\n",
            "Epoch 44 Loss: 0.0324135385453701\n",
            "Epoch 45 Loss: 0.030362682417035103\n",
            "Epoch 46 Loss: 0.030552104115486145\n",
            "Epoch 47 Loss: 0.028550803661346436\n",
            "Epoch 48 Loss: 0.026168283075094223\n",
            "Epoch 49 Loss: 0.024211741983890533\n",
            "Epoch 50 Loss: 0.025176486000418663\n"
          ]
        }
      ]
    },
    {
      "cell_type": "code",
      "source": [
        "yahoo_new['High'][-12:]"
      ],
      "metadata": {
        "colab": {
          "base_uri": "https://localhost:8080/"
        },
        "id": "5zBzdMZiEZKd",
        "outputId": "dcbc8264-4dcd-4ed1-dba3-23b0c3a17894"
      },
      "execution_count": null,
      "outputs": [
        {
          "output_type": "execute_result",
          "data": {
            "text/plain": [
              "1813    1.000000\n",
              "1814    0.950656\n",
              "1815    0.963963\n",
              "1816    0.957215\n",
              "1817    0.970911\n",
              "1818    0.970911\n",
              "1819    0.970911\n",
              "1820    0.990283\n",
              "1821    0.987282\n",
              "1822    0.985047\n",
              "1823    0.966220\n",
              "1824    0.964002\n",
              "Name: High, dtype: float64"
            ]
          },
          "metadata": {},
          "execution_count": 14
        }
      ]
    },
    {
      "cell_type": "code",
      "source": [
        "sequence_length = 30\n",
        "\n",
        "last_known_sequence = yahoo_new['High'][-sequence_length:].values.reshape(1, sequence_length, 1)\n"
      ],
      "metadata": {
        "id": "M0JfBrCHD-kF"
      },
      "execution_count": null,
      "outputs": []
    },
    {
      "cell_type": "code",
      "source": [
        "last_date = pd.to_datetime(yahoo_new['Date'].iloc[-1])\n",
        "next_100_dates = [last_date + pd.Timedelta(days=i) for i in range(1, 101)]\n"
      ],
      "metadata": {
        "id": "TnvUacaVaytp"
      },
      "execution_count": null,
      "outputs": []
    },
    {
      "cell_type": "code",
      "source": [
        "model.eval()\n",
        "predictions = []\n",
        "\n",
        "for _ in range(100):\n",
        "    with torch.no_grad():\n",
        "        current_sequence_tensor = torch.Tensor(last_known_sequence)\n",
        "        next_point_pred = model(current_sequence_tensor)\n",
        "\n",
        "        predictions.append(next_point_pred.item())\n",
        "\n",
        "        last_known_sequence = np.roll(last_known_sequence, -1, axis=1)\n",
        "        last_known_sequence[:, -1, :] = next_point_pred.numpy()\n",
        "\n",
        "if isinstance(scaler, MinMaxScaler):\n",
        "    predictions = scaler.inverse_transform(np.array(predictions).reshape(-1, 1))\n"
      ],
      "metadata": {
        "id": "u7n4E2ADa1dc"
      },
      "execution_count": null,
      "outputs": []
    },
    {
      "cell_type": "code",
      "source": [
        "predictions_df = pd.DataFrame({\n",
        "    'date': next_100_dates,\n",
        "    'predicted_high': predictions.reshape(-1)\n",
        "})"
      ],
      "metadata": {
        "id": "tPewcwrva4zA"
      },
      "execution_count": null,
      "outputs": []
    },
    {
      "cell_type": "code",
      "source": [
        "import matplotlib.pyplot as plt\n",
        "\n",
        "plt.figure(figsize=(14, 7))\n",
        "plt.plot(predictions_df['date'], predictions_df['predicted_high'], label='Predicted High Values', marker='o', linestyle='-', color='blue')\n",
        "plt.title('Predicted New High prices Over the Next 100 Days')\n",
        "plt.xlabel('Date')\n",
        "plt.ylabel('Predicted High Prices')\n",
        "plt.xticks(rotation=45)\n",
        "plt.legend()\n",
        "plt.grid(True)\n",
        "plt.tight_layout()\n",
        "plt.show()\n"
      ],
      "metadata": {
        "id": "rfcGEzqHa6fC",
        "colab": {
          "base_uri": "https://localhost:8080/",
          "height": 370
        },
        "outputId": "12fb3df3-12d5-4ee1-8e96-073c8e5bc1c4"
      },
      "execution_count": null,
      "outputs": [
        {
          "output_type": "display_data",
          "data": {
            "text/plain": [
              "<Figure size 1400x700 with 1 Axes>"
            ],
            "image/png": "[encoded data removed]"
          },
          "metadata": {}
        }
      ]
    }
  ]
}